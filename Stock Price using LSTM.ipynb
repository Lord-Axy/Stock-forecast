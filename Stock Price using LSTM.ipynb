{
 "cells": [
  {
   "cell_type": "markdown",
   "metadata": {},
   "source": [
    "\n"
   ]
  },
  {
   "cell_type": "markdown",
   "metadata": {},
   "source": [
    "## A Seperate Handbook is provided with detailed discription of the Code"
   ]
  },
  {
   "cell_type": "markdown",
   "metadata": {},
   "source": [
    "#### The following line is one time code for installing pandas_datareader"
   ]
  },
  {
   "cell_type": "code",
   "execution_count": 1,
   "metadata": {},
   "outputs": [],
   "source": [
    "#pip install pandas_datareader\n"
   ]
  },
  {
   "cell_type": "code",
   "execution_count": null,
   "metadata": {},
   "outputs": [],
   "source": []
  },
  {
   "cell_type": "code",
   "execution_count": 2,
   "metadata": {},
   "outputs": [],
   "source": [
    "# This code will filter out all the warnings\n",
    "import warnings\n",
    "warnings.filterwarnings('ignore')"
   ]
  },
  {
   "cell_type": "markdown",
   "metadata": {},
   "source": [
    "### Import the Necessary Libraries"
   ]
  },
  {
   "cell_type": "code",
   "execution_count": 3,
   "metadata": {},
   "outputs": [],
   "source": [
    "import pandas_datareader as web\n",
    "import math\n",
    "import pandas as pd\n",
    "import numpy as np\n",
    "from sklearn.preprocessing import MinMaxScaler\n",
    "import matplotlib.pyplot as plt\n",
    "import seaborn as sns\n",
    "sns.set()\n",
    "from datetime import date\n"
   ]
  },
  {
   "cell_type": "markdown",
   "metadata": {},
   "source": [
    "### Import data using pandas_datareader. Select data range of your choice"
   ]
  },
  {
   "cell_type": "code",
   "execution_count": 4,
   "metadata": {},
   "outputs": [],
   "source": [
    "df=web.DataReader('MSFT',data_source='yahoo',start='2012-01-01',end='2020-10-18')"
   ]
  },
  {
   "cell_type": "markdown",
   "metadata": {},
   "source": [
    "## Basic EDA"
   ]
  },
  {
   "cell_type": "code",
   "execution_count": 5,
   "metadata": {},
   "outputs": [
    {
     "data": {
      "text/html": [
       "<div>\n",
       "<style scoped>\n",
       "    .dataframe tbody tr th:only-of-type {\n",
       "        vertical-align: middle;\n",
       "    }\n",
       "\n",
       "    .dataframe tbody tr th {\n",
       "        vertical-align: top;\n",
       "    }\n",
       "\n",
       "    .dataframe thead th {\n",
       "        text-align: right;\n",
       "    }\n",
       "</style>\n",
       "<table border=\"1\" class=\"dataframe\">\n",
       "  <thead>\n",
       "    <tr style=\"text-align: right;\">\n",
       "      <th></th>\n",
       "      <th>High</th>\n",
       "      <th>Low</th>\n",
       "      <th>Open</th>\n",
       "      <th>Close</th>\n",
       "      <th>Volume</th>\n",
       "      <th>Adj Close</th>\n",
       "    </tr>\n",
       "    <tr>\n",
       "      <th>Date</th>\n",
       "      <th></th>\n",
       "      <th></th>\n",
       "      <th></th>\n",
       "      <th></th>\n",
       "      <th></th>\n",
       "      <th></th>\n",
       "    </tr>\n",
       "  </thead>\n",
       "  <tbody>\n",
       "    <tr>\n",
       "      <th>2012-01-03</th>\n",
       "      <td>26.959999</td>\n",
       "      <td>26.389999</td>\n",
       "      <td>26.549999</td>\n",
       "      <td>26.770000</td>\n",
       "      <td>64731500.0</td>\n",
       "      <td>21.906679</td>\n",
       "    </tr>\n",
       "    <tr>\n",
       "      <th>2012-01-04</th>\n",
       "      <td>27.469999</td>\n",
       "      <td>26.780001</td>\n",
       "      <td>26.820000</td>\n",
       "      <td>27.400000</td>\n",
       "      <td>80516100.0</td>\n",
       "      <td>22.422224</td>\n",
       "    </tr>\n",
       "    <tr>\n",
       "      <th>2012-01-05</th>\n",
       "      <td>27.730000</td>\n",
       "      <td>27.290001</td>\n",
       "      <td>27.379999</td>\n",
       "      <td>27.680000</td>\n",
       "      <td>56081400.0</td>\n",
       "      <td>22.651352</td>\n",
       "    </tr>\n",
       "    <tr>\n",
       "      <th>2012-01-06</th>\n",
       "      <td>28.190001</td>\n",
       "      <td>27.530001</td>\n",
       "      <td>27.530001</td>\n",
       "      <td>28.110001</td>\n",
       "      <td>99455500.0</td>\n",
       "      <td>23.003237</td>\n",
       "    </tr>\n",
       "    <tr>\n",
       "      <th>2012-01-09</th>\n",
       "      <td>28.100000</td>\n",
       "      <td>27.719999</td>\n",
       "      <td>28.049999</td>\n",
       "      <td>27.740000</td>\n",
       "      <td>59706800.0</td>\n",
       "      <td>22.700455</td>\n",
       "    </tr>\n",
       "  </tbody>\n",
       "</table>\n",
       "</div>"
      ],
      "text/plain": [
       "                 High        Low       Open      Close      Volume  Adj Close\n",
       "Date                                                                         \n",
       "2012-01-03  26.959999  26.389999  26.549999  26.770000  64731500.0  21.906679\n",
       "2012-01-04  27.469999  26.780001  26.820000  27.400000  80516100.0  22.422224\n",
       "2012-01-05  27.730000  27.290001  27.379999  27.680000  56081400.0  22.651352\n",
       "2012-01-06  28.190001  27.530001  27.530001  28.110001  99455500.0  23.003237\n",
       "2012-01-09  28.100000  27.719999  28.049999  27.740000  59706800.0  22.700455"
      ]
     },
     "execution_count": 5,
     "metadata": {},
     "output_type": "execute_result"
    }
   ],
   "source": [
    "df.head()"
   ]
  },
  {
   "cell_type": "code",
   "execution_count": 6,
   "metadata": {},
   "outputs": [
    {
     "data": {
      "text/plain": [
       "(2213, 6)"
      ]
     },
     "execution_count": 6,
     "metadata": {},
     "output_type": "execute_result"
    }
   ],
   "source": [
    "df.shape"
   ]
  },
  {
   "cell_type": "code",
   "execution_count": 7,
   "metadata": {},
   "outputs": [
    {
     "data": {
      "image/png": "[encoded data removed]",
      "text/plain": [
       "<Figure size 1080x360 with 1 Axes>"
      ]
     },
     "metadata": {},
     "output_type": "display_data"
    }
   ],
   "source": [
    "plt.figure(figsize=(15,5))\n",
    "plt.plot(df.Close)\n",
    "plt.title(\"Stock Price\")\n",
    "plt.xlabel(\"Date\")\n",
    "plt.ylabel(\"Close Price in US $\");\n"
   ]
  },
  {
   "cell_type": "markdown",
   "metadata": {},
   "source": [
    "## Seperate out the Close Column as we will be working on the Closing Values"
   ]
  },
  {
   "cell_type": "code",
   "execution_count": 8,
   "metadata": {},
   "outputs": [],
   "source": [
    "close=df.filter(['Close'])"
   ]
  },
  {
   "cell_type": "code",
   "execution_count": 9,
   "metadata": {},
   "outputs": [
    {
     "data": {
      "text/html": [
       "<div>\n",
       "<style scoped>\n",
       "    .dataframe tbody tr th:only-of-type {\n",
       "        vertical-align: middle;\n",
       "    }\n",
       "\n",
       "    .dataframe tbody tr th {\n",
       "        vertical-align: top;\n",
       "    }\n",
       "\n",
       "    .dataframe thead th {\n",
       "        text-align: right;\n",
       "    }\n",
       "</style>\n",
       "<table border=\"1\" class=\"dataframe\">\n",
       "  <thead>\n",
       "    <tr style=\"text-align: right;\">\n",
       "      <th></th>\n",
       "      <th>Close</th>\n",
       "    </tr>\n",
       "    <tr>\n",
       "      <th>Date</th>\n",
       "      <th></th>\n",
       "    </tr>\n",
       "  </thead>\n",
       "  <tbody>\n",
       "    <tr>\n",
       "      <th>2012-01-03</th>\n",
       "      <td>26.770000</td>\n",
       "    </tr>\n",
       "    <tr>\n",
       "      <th>2012-01-04</th>\n",
       "      <td>27.400000</td>\n",
       "    </tr>\n",
       "    <tr>\n",
       "      <th>2012-01-05</th>\n",
       "      <td>27.680000</td>\n",
       "    </tr>\n",
       "    <tr>\n",
       "      <th>2012-01-06</th>\n",
       "      <td>28.110001</td>\n",
       "    </tr>\n",
       "    <tr>\n",
       "      <th>2012-01-09</th>\n",
       "      <td>27.740000</td>\n",
       "    </tr>\n",
       "  </tbody>\n",
       "</table>\n",
       "</div>"
      ],
      "text/plain": [
       "                Close\n",
       "Date                 \n",
       "2012-01-03  26.770000\n",
       "2012-01-04  27.400000\n",
       "2012-01-05  27.680000\n",
       "2012-01-06  28.110001\n",
       "2012-01-09  27.740000"
      ]
     },
     "execution_count": 9,
     "metadata": {},
     "output_type": "execute_result"
    }
   ],
   "source": [
    "close.head()"
   ]
  },
  {
   "cell_type": "code",
   "execution_count": 10,
   "metadata": {},
   "outputs": [],
   "source": [
    "# change the Values to Numpy Array\n",
    "close_stock=close.values"
   ]
  },
  {
   "cell_type": "code",
   "execution_count": 11,
   "metadata": {},
   "outputs": [
    {
     "data": {
      "text/plain": [
       "numpy.ndarray"
      ]
     },
     "execution_count": 11,
     "metadata": {},
     "output_type": "execute_result"
    }
   ],
   "source": [
    "type(close_stock)"
   ]
  },
  {
   "cell_type": "markdown",
   "metadata": {},
   "source": [
    "## Prepare & Scale  the Training Data"
   ]
  },
  {
   "cell_type": "code",
   "execution_count": 12,
   "metadata": {},
   "outputs": [],
   "source": [
    "training_data_length=math.ceil(len(close_stock)*0.8)"
   ]
  },
  {
   "cell_type": "code",
   "execution_count": 13,
   "metadata": {},
   "outputs": [
    {
     "data": {
      "text/plain": [
       "1771"
      ]
     },
     "execution_count": 13,
     "metadata": {},
     "output_type": "execute_result"
    }
   ],
   "source": [
    "training_data_length"
   ]
  },
  {
   "cell_type": "code",
   "execution_count": 14,
   "metadata": {},
   "outputs": [],
   "source": [
    "mms=MinMaxScaler(feature_range=(0, 1))"
   ]
  },
  {
   "cell_type": "code",
   "execution_count": 15,
   "metadata": {},
   "outputs": [],
   "source": [
    "scaled_close_stock=mms.fit_transform(close_stock)"
   ]
  },
  {
   "cell_type": "code",
   "execution_count": 16,
   "metadata": {},
   "outputs": [
    {
     "data": {
      "text/plain": [
       "array([[0.00194856],\n",
       "       [0.00501753],\n",
       "       [0.00638153],\n",
       "       ...,\n",
       "       [0.94743768],\n",
       "       [0.94159202],\n",
       "       [0.94159202]])"
      ]
     },
     "execution_count": 16,
     "metadata": {},
     "output_type": "execute_result"
    }
   ],
   "source": [
    "scaled_close_stock"
   ]
  },
  {
   "cell_type": "code",
   "execution_count": 17,
   "metadata": {},
   "outputs": [],
   "source": [
    "training_data=scaled_close_stock[0:training_data_length,:]"
   ]
  },
  {
   "cell_type": "code",
   "execution_count": 18,
   "metadata": {},
   "outputs": [
    {
     "data": {
      "text/plain": [
       "1771"
      ]
     },
     "execution_count": 18,
     "metadata": {},
     "output_type": "execute_result"
    }
   ],
   "source": [
    "len(training_data)"
   ]
  },
  {
   "cell_type": "code",
   "execution_count": 19,
   "metadata": {},
   "outputs": [
    {
     "data": {
      "text/plain": [
       "array([[0.00194856],\n",
       "       [0.00501753],\n",
       "       [0.00638153],\n",
       "       ...,\n",
       "       [0.36866721],\n",
       "       [0.38308654],\n",
       "       [0.38488893]])"
      ]
     },
     "execution_count": 19,
     "metadata": {},
     "output_type": "execute_result"
    }
   ],
   "source": [
    "training_data"
   ]
  },
  {
   "cell_type": "markdown",
   "metadata": {},
   "source": [
    "### Make X_train & y_train"
   ]
  },
  {
   "cell_type": "code",
   "execution_count": 20,
   "metadata": {},
   "outputs": [],
   "source": [
    "X_train=[]\n",
    "y_train=[]"
   ]
  },
  {
   "cell_type": "code",
   "execution_count": 21,
   "metadata": {},
   "outputs": [],
   "source": [
    "for i in range(60 ,len(training_data)):\n",
    "    X_train.append(training_data[i-60:i,0])\n",
    "    y_train.append(training_data[i,0])"
   ]
  },
  {
   "cell_type": "code",
   "execution_count": 22,
   "metadata": {},
   "outputs": [
    {
     "data": {
      "text/plain": [
       "list"
      ]
     },
     "execution_count": 22,
     "metadata": {},
     "output_type": "execute_result"
    }
   ],
   "source": [
    "type(X_train)"
   ]
  },
  {
   "cell_type": "markdown",
   "metadata": {},
   "source": [
    "### Change X_train and y_train to NumPy arrays"
   ]
  },
  {
   "cell_type": "code",
   "execution_count": 23,
   "metadata": {},
   "outputs": [],
   "source": [
    "X_train,y_train=np.array(X_train),np.array(y_train)"
   ]
  },
  {
   "cell_type": "code",
   "execution_count": 24,
   "metadata": {},
   "outputs": [
    {
     "name": "stdout",
     "output_type": "stream",
     "text": [
      "<class 'numpy.ndarray'>\n",
      "<class 'numpy.ndarray'>\n"
     ]
    }
   ],
   "source": [
    "print(type(X_train))\n",
    "print(type(y_train))\n"
   ]
  },
  {
   "cell_type": "code",
   "execution_count": 25,
   "metadata": {},
   "outputs": [
    {
     "name": "stdout",
     "output_type": "stream",
     "text": [
      "2\n",
      "(1711, 60)\n"
     ]
    }
   ],
   "source": [
    "print(X_train.ndim)\n",
    "print(X_train.shape)"
   ]
  },
  {
   "cell_type": "code",
   "execution_count": 26,
   "metadata": {},
   "outputs": [
    {
     "data": {
      "text/plain": [
       "60"
      ]
     },
     "execution_count": 26,
     "metadata": {},
     "output_type": "execute_result"
    }
   ],
   "source": [
    "X_train.shape[1]"
   ]
  },
  {
   "cell_type": "markdown",
   "metadata": {},
   "source": [
    "### RNN needs data in 3 dimensions , number of Samples, Number of Time Steps and Number of Features So wee need to reshape the data"
   ]
  },
  {
   "cell_type": "code",
   "execution_count": 27,
   "metadata": {},
   "outputs": [],
   "source": [
    "X_train=np.reshape(X_train,(X_train.shape[0],X_train.shape[1],1))"
   ]
  },
  {
   "cell_type": "markdown",
   "metadata": {},
   "source": [
    "# Make the LSTM Architecture"
   ]
  },
  {
   "cell_type": "code",
   "execution_count": 28,
   "metadata": {},
   "outputs": [],
   "source": [
    "import tensorflow\n"
   ]
  },
  {
   "cell_type": "code",
   "execution_count": 29,
   "metadata": {},
   "outputs": [],
   "source": [
    "from tensorflow.keras.models import Sequential\n",
    "from tensorflow.keras.layers import Dense\n",
    "from tensorflow.keras.layers import LSTM"
   ]
  },
  {
   "cell_type": "code",
   "execution_count": 30,
   "metadata": {},
   "outputs": [],
   "source": [
    "model = Sequential()"
   ]
  },
  {
   "cell_type": "code",
   "execution_count": 31,
   "metadata": {},
   "outputs": [
    {
     "data": {
      "text/plain": [
       "(1711, 60, 1)"
      ]
     },
     "execution_count": 31,
     "metadata": {},
     "output_type": "execute_result"
    }
   ],
   "source": [
    "X_train.shape\n"
   ]
  },
  {
   "cell_type": "markdown",
   "metadata": {},
   "source": [
    "### input_shape = number of time steps and number of features. In this case number of features is 1"
   ]
  },
  {
   "cell_type": "code",
   "execution_count": 32,
   "metadata": {},
   "outputs": [],
   "source": [
    "model.add(LSTM(units = 50, return_sequences = True, input_shape = (X_train.shape[1], 1)))"
   ]
  },
  {
   "cell_type": "code",
   "execution_count": 33,
   "metadata": {},
   "outputs": [],
   "source": [
    "model.add(LSTM(units = 50, return_sequences = True))\n",
    "\n",
    "\n",
    "\n",
    "model.add(LSTM(units = 50, return_sequences = True))\n",
    "\n",
    "\n",
    "\n",
    "model.add(LSTM(units = 50))\n"
   ]
  },
  {
   "cell_type": "code",
   "execution_count": 34,
   "metadata": {},
   "outputs": [],
   "source": [
    "# Adding the output layer\n",
    "model.add(Dense(units = 1))"
   ]
  },
  {
   "cell_type": "code",
   "execution_count": 35,
   "metadata": {},
   "outputs": [],
   "source": [
    "# Compiling the RNN\n",
    "model.compile(optimizer = 'adam', loss = 'mean_squared_error')"
   ]
  },
  {
   "cell_type": "code",
   "execution_count": null,
   "metadata": {},
   "outputs": [],
   "source": []
  },
  {
   "cell_type": "code",
   "execution_count": 36,
   "metadata": {},
   "outputs": [
    {
     "name": "stdout",
     "output_type": "stream",
     "text": [
      "Epoch 1/50\n",
      "54/54 [==============================] - 4s 79ms/step - loss: 0.0033\n",
      "Epoch 2/50\n",
      "54/54 [==============================] - 4s 66ms/step - loss: 1.2378e-04\n",
      "Epoch 3/50\n",
      "54/54 [==============================] - 4s 67ms/step - loss: 1.2249e-04\n",
      "Epoch 4/50\n",
      "54/54 [==============================] - 4s 66ms/step - loss: 1.5490e-04\n",
      "Epoch 5/50\n",
      "54/54 [==============================] - 4s 66ms/step - loss: 1.1612e-04\n",
      "Epoch 6/50\n",
      "54/54 [==============================] - 4s 72ms/step - loss: 1.3402e-04\n",
      "Epoch 7/50\n",
      "54/54 [==============================] - 4s 69ms/step - loss: 1.1836e-04\n",
      "Epoch 8/50\n",
      "54/54 [==============================] - 4s 67ms/step - loss: 1.1701e-04\n",
      "Epoch 9/50\n",
      "54/54 [==============================] - 4s 67ms/step - loss: 1.3035e-04\n",
      "Epoch 10/50\n",
      "54/54 [==============================] - 4s 67ms/step - loss: 1.1096e-04\n",
      "Epoch 11/50\n",
      "54/54 [==============================] - 4s 68ms/step - loss: 1.3896e-04\n",
      "Epoch 12/50\n",
      "54/54 [==============================] - 4s 68ms/step - loss: 1.3613e-04\n",
      "Epoch 13/50\n",
      "54/54 [==============================] - 4s 74ms/step - loss: 1.0918e-04\n",
      "Epoch 14/50\n",
      "54/54 [==============================] - 6s 116ms/step - loss: 1.1931e-04\n",
      "Epoch 15/50\n",
      "54/54 [==============================] - 8s 142ms/step - loss: 1.1343e-04\n",
      "Epoch 16/50\n",
      "54/54 [==============================] - 5s 98ms/step - loss: 1.0672e-04\n",
      "Epoch 17/50\n",
      "54/54 [==============================] - 4s 71ms/step - loss: 1.0110e-04\n",
      "Epoch 18/50\n",
      "54/54 [==============================] - 4s 69ms/step - loss: 1.3433e-04\n",
      "Epoch 19/50\n",
      "54/54 [==============================] - 4s 75ms/step - loss: 1.0750e-04\n",
      "Epoch 20/50\n",
      "54/54 [==============================] - 5s 84ms/step - loss: 1.0195e-04\n",
      "Epoch 21/50\n",
      "54/54 [==============================] - 5s 89ms/step - loss: 1.0962e-04\n",
      "Epoch 22/50\n",
      "54/54 [==============================] - 5s 85ms/step - loss: 1.2791e-04\n",
      "Epoch 23/50\n",
      "54/54 [==============================] - 4s 79ms/step - loss: 9.6492e-05\n",
      "Epoch 24/50\n",
      "54/54 [==============================] - 4s 79ms/step - loss: 1.2767e-04\n",
      "Epoch 25/50\n",
      "54/54 [==============================] - 4s 79ms/step - loss: 1.0162e-04\n",
      "Epoch 26/50\n",
      "54/54 [==============================] - 4s 83ms/step - loss: 8.4704e-05\n",
      "Epoch 27/50\n",
      "54/54 [==============================] - 5s 84ms/step - loss: 7.7757e-05\n",
      "Epoch 28/50\n",
      "54/54 [==============================] - 4s 83ms/step - loss: 8.9011e-05\n",
      "Epoch 29/50\n",
      "54/54 [==============================] - 4s 78ms/step - loss: 7.7452e-05\n",
      "Epoch 30/50\n",
      "54/54 [==============================] - 4s 77ms/step - loss: 7.2300e-05\n",
      "Epoch 31/50\n",
      "54/54 [==============================] - 4s 77ms/step - loss: 7.6008e-05\n",
      "Epoch 32/50\n",
      "54/54 [==============================] - 4s 77ms/step - loss: 8.8426e-05\n",
      "Epoch 33/50\n",
      "54/54 [==============================] - 4s 77ms/step - loss: 7.9755e-05\n",
      "Epoch 34/50\n",
      "54/54 [==============================] - 4s 79ms/step - loss: 7.4287e-05\n",
      "Epoch 35/50\n",
      "54/54 [==============================] - 4s 78ms/step - loss: 7.1206e-05\n",
      "Epoch 36/50\n",
      "54/54 [==============================] - 4s 80ms/step - loss: 7.5244e-05\n",
      "Epoch 37/50\n",
      "54/54 [==============================] - 4s 78ms/step - loss: 7.7633e-05\n",
      "Epoch 38/50\n",
      "54/54 [==============================] - 4s 77ms/step - loss: 7.7925e-05\n",
      "Epoch 39/50\n",
      "54/54 [==============================] - 4s 74ms/step - loss: 6.8281e-05\n",
      "Epoch 40/50\n",
      "54/54 [==============================] - 4s 76ms/step - loss: 6.4689e-05\n",
      "Epoch 41/50\n",
      "54/54 [==============================] - 5s 84ms/step - loss: 6.3863e-05\n",
      "Epoch 42/50\n",
      "54/54 [==============================] - 5s 91ms/step - loss: 5.9060e-05\n",
      "Epoch 43/50\n",
      "54/54 [==============================] - 5s 87ms/step - loss: 6.8122e-05\n",
      "Epoch 44/50\n",
      "54/54 [==============================] - 4s 82ms/step - loss: 6.3172e-05\n",
      "Epoch 45/50\n",
      "54/54 [==============================] - 4s 78ms/step - loss: 7.6066e-05\n",
      "Epoch 46/50\n",
      "54/54 [==============================] - 4s 79ms/step - loss: 5.2117e-05\n",
      "Epoch 47/50\n",
      "54/54 [==============================] - 4s 78ms/step - loss: 6.2636e-05\n",
      "Epoch 48/50\n",
      "54/54 [==============================] - 5s 84ms/step - loss: 6.4921e-05\n",
      "Epoch 49/50\n",
      "54/54 [==============================] - 4s 81ms/step - loss: 5.8565e-05\n",
      "Epoch 50/50\n",
      "54/54 [==============================] - 4s 82ms/step - loss: 5.8971e-05\n"
     ]
    },
    {
     "data": {
      "text/plain": [
       "<tensorflow.python.keras.callbacks.History at 0x7fa7e0cb7550>"
      ]
     },
     "execution_count": 36,
     "metadata": {},
     "output_type": "execute_result"
    }
   ],
   "source": [
    "# Fitting the RNN to the Training set\n",
    "model.fit(X_train, y_train, epochs = 50, batch_size = 32)\n"
   ]
  },
  {
   "cell_type": "markdown",
   "metadata": {},
   "source": [
    "## Prepare & reshape the Test Data"
   ]
  },
  {
   "cell_type": "code",
   "execution_count": 37,
   "metadata": {},
   "outputs": [],
   "source": [
    "test_data=scaled_close_stock[training_data_length-60:,:]\n"
   ]
  },
  {
   "cell_type": "code",
   "execution_count": 38,
   "metadata": {},
   "outputs": [
    {
     "data": {
      "text/plain": [
       "1771"
      ]
     },
     "execution_count": 38,
     "metadata": {},
     "output_type": "execute_result"
    }
   ],
   "source": [
    "training_data_length"
   ]
  },
  {
   "cell_type": "code",
   "execution_count": 39,
   "metadata": {},
   "outputs": [
    {
     "data": {
      "text/plain": [
       "502"
      ]
     },
     "execution_count": 39,
     "metadata": {},
     "output_type": "execute_result"
    }
   ],
   "source": [
    "len(test_data)"
   ]
  },
  {
   "cell_type": "code",
   "execution_count": 40,
   "metadata": {},
   "outputs": [],
   "source": [
    "X_test=[]\n",
    "y_test=close_stock[training_data_length:,:]"
   ]
  },
  {
   "cell_type": "code",
   "execution_count": 41,
   "metadata": {},
   "outputs": [],
   "source": [
    "for i in range(60,len(test_data)):\n",
    "    X_test.append(test_data[i-60:i,0])"
   ]
  },
  {
   "cell_type": "code",
   "execution_count": 42,
   "metadata": {},
   "outputs": [
    {
     "data": {
      "text/plain": [
       "442"
      ]
     },
     "execution_count": 42,
     "metadata": {},
     "output_type": "execute_result"
    }
   ],
   "source": [
    "len(X_test)"
   ]
  },
  {
   "cell_type": "code",
   "execution_count": 43,
   "metadata": {},
   "outputs": [],
   "source": [
    "X_test=np.array(X_test)"
   ]
  },
  {
   "cell_type": "code",
   "execution_count": 44,
   "metadata": {},
   "outputs": [
    {
     "data": {
      "text/plain": [
       "(442, 60)"
      ]
     },
     "execution_count": 44,
     "metadata": {},
     "output_type": "execute_result"
    }
   ],
   "source": [
    "X_test.shape"
   ]
  },
  {
   "cell_type": "code",
   "execution_count": 45,
   "metadata": {},
   "outputs": [],
   "source": [
    "X_test=np.reshape(X_test,(X_test.shape[0],X_test.shape[1],1))"
   ]
  },
  {
   "cell_type": "markdown",
   "metadata": {},
   "source": [
    "# Make Predictions"
   ]
  },
  {
   "cell_type": "code",
   "execution_count": 46,
   "metadata": {},
   "outputs": [],
   "source": [
    "y_pred=model.predict(X_test)\n"
   ]
  },
  {
   "cell_type": "code",
   "execution_count": 47,
   "metadata": {},
   "outputs": [
    {
     "data": {
      "text/plain": [
       "array([[0.3780632 ],\n",
       "       [0.38059056],\n",
       "       [0.38449308],\n",
       "       [0.38718203],\n",
       "       [0.3885117 ],\n",
       "       [0.38852948],\n",
       "       [0.38843885],\n",
       "       [0.3872886 ],\n",
       "       [0.38392583],\n",
       "       [0.3818574 ],\n",
       "       [0.38086438],\n",
       "       [0.37942728],\n",
       "       [0.379552  ],\n",
       "       [0.38239324],\n",
       "       [0.38593006],\n",
       "       [0.38808608],\n",
       "       [0.38874686],\n",
       "       [0.388178  ],\n",
       "       [0.38815233],\n",
       "       [0.38893893],\n",
       "       [0.3901212 ],\n",
       "       [0.3920704 ],\n",
       "       [0.39424255],\n",
       "       [0.3952804 ],\n",
       "       [0.39658526],\n",
       "       [0.39939585],\n",
       "       [0.40335688],\n",
       "       [0.40764377],\n",
       "       [0.41096503],\n",
       "       [0.41264066],\n",
       "       [0.41323102],\n",
       "       [0.4130928 ],\n",
       "       [0.41226253],\n",
       "       [0.41125146],\n",
       "       [0.40958622],\n",
       "       [0.40785703],\n",
       "       [0.40835285],\n",
       "       [0.4113994 ],\n",
       "       [0.41610205],\n",
       "       [0.42075536],\n",
       "       [0.42502424],\n",
       "       [0.42944562],\n",
       "       [0.4333394 ],\n",
       "       [0.43583086],\n",
       "       [0.438727  ],\n",
       "       [0.43952337],\n",
       "       [0.43859676],\n",
       "       [0.43727785],\n",
       "       [0.4355825 ],\n",
       "       [0.43416294],\n",
       "       [0.43422553],\n",
       "       [0.4363739 ],\n",
       "       [0.43967327],\n",
       "       [0.44338313],\n",
       "       [0.4460522 ],\n",
       "       [0.44767067],\n",
       "       [0.4484845 ],\n",
       "       [0.44828147],\n",
       "       [0.44817254],\n",
       "       [0.44858652],\n",
       "       [0.44979605],\n",
       "       [0.45139194],\n",
       "       [0.45259985],\n",
       "       [0.45394978],\n",
       "       [0.45653284],\n",
       "       [0.45989165],\n",
       "       [0.46412805],\n",
       "       [0.4677035 ],\n",
       "       [0.47291404],\n",
       "       [0.47916332],\n",
       "       [0.484298  ],\n",
       "       [0.48776686],\n",
       "       [0.48733446],\n",
       "       [0.48296905],\n",
       "       [0.4796237 ],\n",
       "       [0.47832263],\n",
       "       [0.47658604],\n",
       "       [0.47451815],\n",
       "       [0.47304344],\n",
       "       [0.47396007],\n",
       "       [0.4736194 ],\n",
       "       [0.47293764],\n",
       "       [0.47371507],\n",
       "       [0.47795033],\n",
       "       [0.4829902 ],\n",
       "       [0.485175  ],\n",
       "       [0.48497197],\n",
       "       [0.48429888],\n",
       "       [0.4827449 ],\n",
       "       [0.48087323],\n",
       "       [0.47930542],\n",
       "       [0.47743535],\n",
       "       [0.47629574],\n",
       "       [0.47452337],\n",
       "       [0.46945494],\n",
       "       [0.4657032 ],\n",
       "       [0.46690977],\n",
       "       [0.4730155 ],\n",
       "       [0.48322234],\n",
       "       [0.49419948],\n",
       "       [0.50187206],\n",
       "       [0.5044482 ],\n",
       "       [0.5037911 ],\n",
       "       [0.5019331 ],\n",
       "       [0.5004344 ],\n",
       "       [0.50156265],\n",
       "       [0.50478387],\n",
       "       [0.5092797 ],\n",
       "       [0.513345  ],\n",
       "       [0.5166079 ],\n",
       "       [0.51514107],\n",
       "       [0.5110835 ],\n",
       "       [0.507494  ],\n",
       "       [0.5056236 ],\n",
       "       [0.5069076 ],\n",
       "       [0.5108073 ],\n",
       "       [0.51593405],\n",
       "       [0.5200067 ],\n",
       "       [0.52207375],\n",
       "       [0.52205   ],\n",
       "       [0.5220975 ],\n",
       "       [0.52311414],\n",
       "       [0.52495974],\n",
       "       [0.526755  ],\n",
       "       [0.5263939 ],\n",
       "       [0.523897  ],\n",
       "       [0.5211243 ],\n",
       "       [0.51953274],\n",
       "       [0.5208421 ],\n",
       "       [0.5245357 ],\n",
       "       [0.5297306 ],\n",
       "       [0.5338795 ],\n",
       "       [0.5369139 ],\n",
       "       [0.5383777 ],\n",
       "       [0.5379236 ],\n",
       "       [0.53297865],\n",
       "       [0.5278653 ],\n",
       "       [0.5239686 ],\n",
       "       [0.51795274],\n",
       "       [0.5137941 ],\n",
       "       [0.5132683 ],\n",
       "       [0.5183204 ],\n",
       "       [0.52463114],\n",
       "       [0.5275273 ],\n",
       "       [0.5293639 ],\n",
       "       [0.52688897],\n",
       "       [0.5215848 ],\n",
       "       [0.5184362 ],\n",
       "       [0.52010727],\n",
       "       [0.52338105],\n",
       "       [0.5271868 ],\n",
       "       [0.52933234],\n",
       "       [0.52588814],\n",
       "       [0.52118593],\n",
       "       [0.51822484],\n",
       "       [0.51728   ],\n",
       "       [0.51977575],\n",
       "       [0.52362627],\n",
       "       [0.52526313],\n",
       "       [0.5259321 ],\n",
       "       [0.52831686],\n",
       "       [0.53073704],\n",
       "       [0.5307313 ],\n",
       "       [0.52766633],\n",
       "       [0.523659  ],\n",
       "       [0.5217885 ],\n",
       "       [0.52197653],\n",
       "       [0.522323  ],\n",
       "       [0.5232196 ],\n",
       "       [0.52535295],\n",
       "       [0.5299591 ],\n",
       "       [0.5336221 ],\n",
       "       [0.53481513],\n",
       "       [0.5326251 ],\n",
       "       [0.5306584 ],\n",
       "       [0.53020763],\n",
       "       [0.5292897 ],\n",
       "       [0.5290066 ],\n",
       "       [0.52780056],\n",
       "       [0.524047  ],\n",
       "       [0.52102005],\n",
       "       [0.5215194 ],\n",
       "       [0.523517  ],\n",
       "       [0.5241383 ],\n",
       "       [0.5255277 ],\n",
       "       [0.5282843 ],\n",
       "       [0.53163016],\n",
       "       [0.53410554],\n",
       "       [0.53684145],\n",
       "       [0.5382443 ],\n",
       "       [0.53750473],\n",
       "       [0.53365767],\n",
       "       [0.52976394],\n",
       "       [0.5257339 ],\n",
       "       [0.5233202 ],\n",
       "       [0.52512854],\n",
       "       [0.5300226 ],\n",
       "       [0.5380552 ],\n",
       "       [0.54466355],\n",
       "       [0.5493776 ],\n",
       "       [0.55078226],\n",
       "       [0.5499846 ],\n",
       "       [0.5490883 ],\n",
       "       [0.5486006 ],\n",
       "       [0.5481082 ],\n",
       "       [0.5478336 ],\n",
       "       [0.5493477 ],\n",
       "       [0.5519366 ],\n",
       "       [0.55516154],\n",
       "       [0.55810136],\n",
       "       [0.56067675],\n",
       "       [0.56411487],\n",
       "       [0.5676764 ],\n",
       "       [0.5702238 ],\n",
       "       [0.5706833 ],\n",
       "       [0.5696541 ],\n",
       "       [0.5684049 ],\n",
       "       [0.5691265 ],\n",
       "       [0.57183766],\n",
       "       [0.57513714],\n",
       "       [0.5768365 ],\n",
       "       [0.5753415 ],\n",
       "       [0.5722707 ],\n",
       "       [0.570162  ],\n",
       "       [0.5697289 ],\n",
       "       [0.57210726],\n",
       "       [0.5752297 ],\n",
       "       [0.5773755 ],\n",
       "       [0.57876813],\n",
       "       [0.5809146 ],\n",
       "       [0.5842874 ],\n",
       "       [0.58826846],\n",
       "       [0.5905131 ],\n",
       "       [0.59050393],\n",
       "       [0.59049386],\n",
       "       [0.5924073 ],\n",
       "       [0.5950017 ],\n",
       "       [0.5969065 ],\n",
       "       [0.59891695],\n",
       "       [0.600865  ],\n",
       "       [0.6009376 ],\n",
       "       [0.5998906 ],\n",
       "       [0.60152036],\n",
       "       [0.6028279 ],\n",
       "       [0.60347503],\n",
       "       [0.6023558 ],\n",
       "       [0.6029666 ],\n",
       "       [0.6068129 ],\n",
       "       [0.6106727 ],\n",
       "       [0.61471856],\n",
       "       [0.6167126 ],\n",
       "       [0.61773723],\n",
       "       [0.62098736],\n",
       "       [0.6256638 ],\n",
       "       [0.628822  ],\n",
       "       [0.62905455],\n",
       "       [0.6285872 ],\n",
       "       [0.62668353],\n",
       "       [0.62190187],\n",
       "       [0.62013644],\n",
       "       [0.6239072 ],\n",
       "       [0.6341459 ],\n",
       "       [0.642095  ],\n",
       "       [0.649215  ],\n",
       "       [0.6595233 ],\n",
       "       [0.6682477 ],\n",
       "       [0.67600846],\n",
       "       [0.68095064],\n",
       "       [0.68702424],\n",
       "       [0.68777627],\n",
       "       [0.6849805 ],\n",
       "       [0.680697  ],\n",
       "       [0.6790297 ],\n",
       "       [0.681588  ],\n",
       "       [0.68560994],\n",
       "       [0.6860198 ],\n",
       "       [0.6785614 ],\n",
       "       [0.66214967],\n",
       "       [0.6447159 ],\n",
       "       [0.6363887 ],\n",
       "       [0.6245111 ],\n",
       "       [0.6179754 ],\n",
       "       [0.6291529 ],\n",
       "       [0.6388556 ],\n",
       "       [0.64841104],\n",
       "       [0.6512488 ],\n",
       "       [0.64434993],\n",
       "       [0.6236305 ],\n",
       "       [0.6121111 ],\n",
       "       [0.60458237],\n",
       "       [0.58597565],\n",
       "       [0.58446693],\n",
       "       [0.5744618 ],\n",
       "       [0.5691597 ],\n",
       "       [0.56483275],\n",
       "       [0.5635338 ],\n",
       "       [0.55965304],\n",
       "       [0.553091  ],\n",
       "       [0.55787027],\n",
       "       [0.5683913 ],\n",
       "       [0.58538383],\n",
       "       [0.5951878 ],\n",
       "       [0.6046401 ],\n",
       "       [0.61000276],\n",
       "       [0.6051945 ],\n",
       "       [0.59758145],\n",
       "       [0.590293  ],\n",
       "       [0.59560996],\n",
       "       [0.6059982 ],\n",
       "       [0.61575943],\n",
       "       [0.62156963],\n",
       "       [0.6236251 ],\n",
       "       [0.63081014],\n",
       "       [0.6379786 ],\n",
       "       [0.64665246],\n",
       "       [0.655088  ],\n",
       "       [0.6571375 ],\n",
       "       [0.6476935 ],\n",
       "       [0.64059263],\n",
       "       [0.6369721 ],\n",
       "       [0.6393768 ],\n",
       "       [0.6440786 ],\n",
       "       [0.6441167 ],\n",
       "       [0.64899534],\n",
       "       [0.658036  ],\n",
       "       [0.66151875],\n",
       "       [0.66432476],\n",
       "       [0.66864246],\n",
       "       [0.6741571 ],\n",
       "       [0.6792858 ],\n",
       "       [0.6833139 ],\n",
       "       [0.6873598 ],\n",
       "       [0.6859164 ],\n",
       "       [0.67894477],\n",
       "       [0.67267823],\n",
       "       [0.6723695 ],\n",
       "       [0.67736375],\n",
       "       [0.6818785 ],\n",
       "       [0.6863149 ],\n",
       "       [0.6873019 ],\n",
       "       [0.68622524],\n",
       "       [0.6828997 ],\n",
       "       [0.67997396],\n",
       "       [0.678217  ],\n",
       "       [0.6796731 ],\n",
       "       [0.68203497],\n",
       "       [0.6859789 ],\n",
       "       [0.68995225],\n",
       "       [0.6899506 ],\n",
       "       [0.69207025],\n",
       "       [0.6962442 ],\n",
       "       [0.701119  ],\n",
       "       [0.7113838 ],\n",
       "       [0.7101397 ],\n",
       "       [0.7036112 ],\n",
       "       [0.69899166],\n",
       "       [0.7021469 ],\n",
       "       [0.7087401 ],\n",
       "       [0.716107  ],\n",
       "       [0.7198158 ],\n",
       "       [0.7256803 ],\n",
       "       [0.73221195],\n",
       "       [0.73211443],\n",
       "       [0.73086965],\n",
       "       [0.7258859 ],\n",
       "       [0.72289497],\n",
       "       [0.7277027 ],\n",
       "       [0.7357924 ],\n",
       "       [0.7434942 ],\n",
       "       [0.75249505],\n",
       "       [0.7562806 ],\n",
       "       [0.7604159 ],\n",
       "       [0.76491773],\n",
       "       [0.76683086],\n",
       "       [0.75961566],\n",
       "       [0.7520685 ],\n",
       "       [0.74767137],\n",
       "       [0.74216044],\n",
       "       [0.73718405],\n",
       "       [0.74443203],\n",
       "       [0.75212044],\n",
       "       [0.7595616 ],\n",
       "       [0.7545738 ],\n",
       "       [0.74425656],\n",
       "       [0.73922694],\n",
       "       [0.73717177],\n",
       "       [0.7392575 ],\n",
       "       [0.7424762 ],\n",
       "       [0.74612415],\n",
       "       [0.76086783],\n",
       "       [0.77170193],\n",
       "       [0.7748785 ],\n",
       "       [0.77674097],\n",
       "       [0.7733088 ],\n",
       "       [0.76369464],\n",
       "       [0.74964947],\n",
       "       [0.7455873 ],\n",
       "       [0.7478368 ],\n",
       "       [0.7519058 ],\n",
       "       [0.7567244 ],\n",
       "       [0.7615457 ],\n",
       "       [0.76269   ],\n",
       "       [0.7668422 ],\n",
       "       [0.7693285 ],\n",
       "       [0.7702871 ],\n",
       "       [0.77304685],\n",
       "       [0.7803493 ],\n",
       "       [0.7920424 ],\n",
       "       [0.8027746 ],\n",
       "       [0.8046562 ],\n",
       "       [0.80316913],\n",
       "       [0.8053757 ],\n",
       "       [0.7930004 ],\n",
       "       [0.77496976],\n",
       "       [0.74978554],\n",
       "       [0.74187434],\n",
       "       [0.7397847 ],\n",
       "       [0.7395678 ],\n",
       "       [0.742834  ],\n",
       "       [0.7511168 ],\n",
       "       [0.7548182 ],\n",
       "       [0.75257784],\n",
       "       [0.7462202 ],\n",
       "       [0.7431841 ],\n",
       "       [0.7484899 ],\n",
       "       [0.7479887 ],\n",
       "       [0.7469079 ],\n",
       "       [0.75147086],\n",
       "       [0.75853264],\n",
       "       [0.7609958 ],\n",
       "       [0.7630488 ],\n",
       "       [0.7664099 ],\n",
       "       [0.7620627 ],\n",
       "       [0.7596039 ],\n",
       "       [0.7546464 ],\n",
       "       [0.7541694 ],\n",
       "       [0.75701773],\n",
       "       [0.7654886 ],\n",
       "       [0.7788701 ],\n",
       "       [0.79018235],\n",
       "       [0.79339045],\n",
       "       [0.7900847 ]], dtype=float32)"
      ]
     },
     "execution_count": 47,
     "metadata": {},
     "output_type": "execute_result"
    }
   ],
   "source": [
    "y_pred"
   ]
  },
  {
   "cell_type": "code",
   "execution_count": 48,
   "metadata": {},
   "outputs": [],
   "source": [
    "y_pred=mms.inverse_transform(y_pred)"
   ]
  },
  {
   "cell_type": "code",
   "execution_count": 49,
   "metadata": {},
   "outputs": [
    {
     "data": {
      "text/html": [
       "<div>\n",
       "<style scoped>\n",
       "    .dataframe tbody tr th:only-of-type {\n",
       "        vertical-align: middle;\n",
       "    }\n",
       "\n",
       "    .dataframe tbody tr th {\n",
       "        vertical-align: top;\n",
       "    }\n",
       "\n",
       "    .dataframe thead th {\n",
       "        text-align: right;\n",
       "    }\n",
       "</style>\n",
       "<table border=\"1\" class=\"dataframe\">\n",
       "  <thead>\n",
       "    <tr style=\"text-align: right;\">\n",
       "      <th></th>\n",
       "      <th>0</th>\n",
       "    </tr>\n",
       "  </thead>\n",
       "  <tbody>\n",
       "    <tr>\n",
       "      <th>0</th>\n",
       "      <td>103.978806</td>\n",
       "    </tr>\n",
       "    <tr>\n",
       "      <th>1</th>\n",
       "      <td>104.497627</td>\n",
       "    </tr>\n",
       "    <tr>\n",
       "      <th>2</th>\n",
       "      <td>105.298737</td>\n",
       "    </tr>\n",
       "    <tr>\n",
       "      <th>3</th>\n",
       "      <td>105.850723</td>\n",
       "    </tr>\n",
       "    <tr>\n",
       "      <th>4</th>\n",
       "      <td>106.123680</td>\n",
       "    </tr>\n",
       "    <tr>\n",
       "      <th>...</th>\n",
       "      <td>...</td>\n",
       "    </tr>\n",
       "    <tr>\n",
       "      <th>437</th>\n",
       "      <td>183.509491</td>\n",
       "    </tr>\n",
       "    <tr>\n",
       "      <th>438</th>\n",
       "      <td>186.256439</td>\n",
       "    </tr>\n",
       "    <tr>\n",
       "      <th>439</th>\n",
       "      <td>188.578629</td>\n",
       "    </tr>\n",
       "    <tr>\n",
       "      <th>440</th>\n",
       "      <td>189.237183</td>\n",
       "    </tr>\n",
       "    <tr>\n",
       "      <th>441</th>\n",
       "      <td>188.558578</td>\n",
       "    </tr>\n",
       "  </tbody>\n",
       "</table>\n",
       "<p>442 rows × 1 columns</p>\n",
       "</div>"
      ],
      "text/plain": [
       "              0\n",
       "0    103.978806\n",
       "1    104.497627\n",
       "2    105.298737\n",
       "3    105.850723\n",
       "4    106.123680\n",
       "..          ...\n",
       "437  183.509491\n",
       "438  186.256439\n",
       "439  188.578629\n",
       "440  189.237183\n",
       "441  188.558578\n",
       "\n",
       "[442 rows x 1 columns]"
      ]
     },
     "execution_count": 49,
     "metadata": {},
     "output_type": "execute_result"
    }
   ],
   "source": [
    "pd.DataFrame(y_pred)"
   ]
  },
  {
   "cell_type": "markdown",
   "metadata": {},
   "source": [
    "## Plot the Data"
   ]
  },
  {
   "cell_type": "code",
   "execution_count": 50,
   "metadata": {
    "scrolled": true
   },
   "outputs": [
    {
     "data": {
      "image/png": "[encoded data removed]",
      "text/plain": [
       "<Figure size 1080x360 with 1 Axes>"
      ]
     },
     "metadata": {},
     "output_type": "display_data"
    }
   ],
   "source": [
    "# Visualising the results\n",
    "plt.figure(figsize=(15,5))\n",
    "plt.plot(y_test, color = 'red', label = 'Actual  Stock Price',ls='--')\n",
    "plt.plot(y_pred, color = 'limegreen', label = 'Predicted  Stock Price',ls='-')\n",
    "plt.title('Stock Market Projection')\n",
    "plt.xlabel('Time in days')\n",
    "plt.ylabel('Price in USD ($)')\n",
    "plt.legend()\n",
    "plt.show()"
   ]
  },
  {
   "cell_type": "markdown",
   "metadata": {},
   "source": [
    "## Plot the whole Data Training, Testing and Prediction Data together"
   ]
  },
  {
   "cell_type": "code",
   "execution_count": 51,
   "metadata": {},
   "outputs": [],
   "source": [
    "train=close[:training_data_length]\n",
    "test=close[training_data_length:]\n",
    "test['pred']=y_pred"
   ]
  },
  {
   "cell_type": "code",
   "execution_count": 53,
   "metadata": {},
   "outputs": [
    {
     "data": {
      "image/png": "[encoded data removed]",
      "text/plain": [
       "<Figure size 1080x360 with 1 Axes>"
      ]
     },
     "metadata": {},
     "output_type": "display_data"
    }
   ],
   "source": [
    "plt.figure(figsize=(15,5))\n",
    "plt.plot(train['Close'], color = 'tab:blue', label = 'Training Stock Data',ls='-')\n",
    "plt.plot(test['Close'], color = 'tab:red', label = 'Testing Stock Data',ls='-')\n",
    "plt.plot(test['pred'], color = 'tab:green', label = 'Predicted Stock Data',ls='dashdot')\n",
    "plt.title('Stock Price')\n",
    "plt.xlabel('Date')\n",
    "plt.ylabel('Stock Price in US $')\n",
    "plt.legend()\n",
    "plt.show()"
   ]
  },
  {
   "cell_type": "code",
   "execution_count": null,
   "metadata": {},
   "outputs": [],
   "source": []
  }
 ],
 "metadata": {
  "kernelspec": {
   "display_name": "Python 3",
   "language": "python",
   "name": "python3"
  },
  "language_info": {
   "codemirror_mode": {
    "name": "ipython",
    "version": 3
   },
   "file_extension": ".py",
   "mimetype": "text/x-python",
   "name": "python",
   "nbconvert_exporter": "python",
   "pygments_lexer": "ipython3",
   "version": "3.8.3"
  }
 },
 "nbformat": 4,
 "nbformat_minor": 4
}
